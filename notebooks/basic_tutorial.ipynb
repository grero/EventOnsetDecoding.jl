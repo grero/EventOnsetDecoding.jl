{
 "cells": [
  {
   "cell_type": "markdown",
   "metadata": {},
   "source": [
    "To demonstrate how to run the code, we'll generate some random data. This is just to showcase the shape and type of the inputs; the result will not make much sense.\n",
    "We draw spike counts from a uniform random distribution, labels from a random categorial distribution with 4 categories, and reaction times from a log-normal distribution. We then gather the spike counts, the bins used, as well as the name of each cell in a named tuple structure called ppsth (population PSTH)."
   ]
  },
  {
   "cell_type": "code",
   "execution_count": 1,
   "metadata": {},
   "outputs": [],
   "source": [
    "using Printf\n",
    "\n",
    "bins = range(-300.0, step=5.0, stop=300.0)\n",
    "nbins = length(bins) \n",
    "locations = 1:4\n",
    "cells_per_session = [13, 26, 14] \n",
    "trials_per_session = [134, 201,197]\n",
    "nsessions = length(trials_per_session)\n",
    "max_n_trials = maximum(trials_per_session) \n",
    "ncells = sum(cells_per_session)\n",
    "counts = fill(0.0, nbins, max_n_trials, ncells)\n",
    "labels = Vector{Vector{Int64}}(undef, ncells)\n",
    "cellnames = Vector{String}(undef, ncells)\n",
    "trialidx = Vector{Vector{Int64}}(undef, ncells)\n",
    "rtimes = Dict{String,Vector{Float64}}()\n",
    "sessions = Vector{String}(undef, nsessions)\n",
    "offset = 0\n",
    "day = \"20231031\"\n",
    "for (i,(_ntrials, _ncells)) in enumerate(zip(trials_per_session, cells_per_session))\n",
    "    counts[:,1:_ntrials, 1:_ncells] = rand(nbins, _ntrials, _ncells)\n",
    "    sname = @sprintf \"session%02d\" i\n",
    "    sessions[i] = joinpath(\"Animal\",day, sname)\n",
    "    rtimes[sessions[i]] = exp.(5.0 .+ 0.1*randn(_ntrials))\n",
    "    for j in 1:_ncells\n",
    "        cellname = @sprintf \"cell%02d\" j\n",
    "        cellnames[offset+j] = joinpath(\"Animal\",day, sname, \"array01\",\"channel001\",cellname)\n",
    "        trialidx[offset+j] = [1:_ntrials;] \n",
    "        labels[offset+j] = rand(locations, _ntrials)\n",
    "    end\n",
    "    offset += _ncells\n",
    "end\n",
    "ppsth = (counts=counts, bins=bins, windowsize=1, cellnames=cellnames);"
   ]
  },
  {
   "cell_type": "markdown",
   "metadata": {},
   "source": [
    "We can now train the event onset decoder to e.g. post-dict an event happening at 0ms. First we specify what latencies and window sizes we want to explore. Then we'll set the parameters for the decoder (see inline comments below). Finally, we'll do 10 runs for this tutorial, but in practice we should do at least 100 runs to get decent statistics."
   ]
  },
  {
   "cell_type": "code",
   "execution_count": 3,
   "metadata": {},
   "outputs": [
    {
     "name": "stderr",
     "output_type": "stream",
     "text": [
      "\u001b[33m\u001b[1m┌ \u001b[22m\u001b[39m\u001b[33m\u001b[1mWarning: \u001b[22m\u001b[39mProgressMeter by default refresh meters with additional information in IJulia via `IJulia.clear_output`, which clears all outputs in the cell. \n",
      "\u001b[33m\u001b[1m│ \u001b[22m\u001b[39m - To prevent this behaviour, do `ProgressMeter.ijulia_behavior(:append)`. \n",
      "\u001b[33m\u001b[1m│ \u001b[22m\u001b[39m - To disable this warning message, do `ProgressMeter.ijulia_behavior(:clear)`.\n",
      "\u001b[33m\u001b[1m└ \u001b[22m\u001b[39m\u001b[90m@ ProgressMeter ~/.julia/packages/ProgressMeter/vnCY0/src/ProgressMeter.jl:626\u001b[39m\n",
      "\r",
      "\u001b[32mProgress: 100%|█████████████████████████████████████████| Time: 0:03:39\u001b[39m\r\n",
      "\u001b[34m  run:       nothing\u001b[39m\r\n",
      "\u001b[34m  max_perf:  0.7906976744186046\u001b[39m\r\n",
      "\u001b[34m  std:       0.23334635818513993\u001b[39m\n"
     ]
    }
   ],
   "source": [
    "using EventOnsetDecoding\n",
    "using EventOnsetDecoding: MultivariateStats\n",
    "\n",
    "cellidx = 1:ncells\n",
    "args = [sessions, locations, cellidx]\n",
    "latencies = range(70.0, step=-10.0, stop=0.0)\n",
    "windows = [range(5.0, step=10.0, stop=50.0);]\n",
    "nruns = 10\n",
    "kvs = [:nruns=>nruns, # number runs, i.e. number of different sets of training and testing trials\n",
    "\t   :difference_decoder=>true, # one of several possible decoders; the one used in the paper\n",
    "\t   :windows=>windows, # the window sizes used\n",
    "\t   :latencies=>latencies, # the latencies from the event to train/test at\n",
    "\t   :combine_locations=>true, # whether to combine responses from all categories\n",
    "\t   :use_area=>\"ALL\", # whether to use all cells, or a subset corresponding to a particular area\n",
    "\t   :rtime_min=>-Inf, # the minimum reaction time. Trial with shorter reaction times are excluded prior to \n",
    "\t                     # training the decoder \n",
    "\t   :mixin_postcue=>true, # used to increase the number of potential false postives. This tends to make\n",
    "\t\t\t\t\t\t  # the decoder more robust\n",
    "\t   :reverse_bins=>true # indicates that we want to look backwards in time to the event at 0\n",
    "\t]\n",
    "dargs = EventOnsetDecoding.DecoderArgs(args...;kvs..., baseline_end=-200.0)\n",
    "rseeds = rand(UInt32,nruns)\n",
    "perf,rr,f1score,fname = EventOnsetDecoding.run_rtime_decoder(ppsth,trialidx,labels,rtimes,dargs,\n",
    "                                                             ;decoder=MultivariateStats.MulticlassLDA, rseeds=rseeds);"
   ]
  },
  {
   "cell_type": "markdown",
   "metadata": {},
   "source": [
    "The outputs `perf` and `f1score` represent the performance of the decoder. In particular, `perf` shows the performance, i.e. the relative number of times that the decoder concluded that an event happened at each point in time. The first dimension represents the time points, the second and third the window and latency at which the decoder was trained, the fourth the category the decoder was tested on (if we trained the decoder on all categories, like in this example, this dimension was just be 1), and the fifth the runs. For each run, the decoder was trained on a different set of training and testing trials. The `f1score` variable represent the F1-score, i.e. a modified performance measure that takes the number of false negatives and false positives into account. The dimenions are similar to those of `perf`, with the exception that the `f1score` is not time resolved. It is only evaluated at the specific window size and latency.\n",
    "\n",
    "To reproduce Figure 2A in the paper, we can plot the mean f1score."
   ]
  },
  {
   "cell_type": "code",
   "execution_count": 8,
   "metadata": {},
   "outputs": [
    {
     "data": {
      "image/png": "[encoded data removed]"
     },
     "execution_count": 8,
     "metadata": {},
     "output_type": "execute_result"
    }
   ],
   "source": [
    "using Makie\n",
    "using CairoMakie\n",
    "using EventOnsetDecoding.StatsBase: mean\n",
    "\n",
    "μ = dropdims(mean(f1score, dims=4), dims=(3,4))\n",
    "with_theme(theme_minimal()) do \n",
    "    fig,ax,h = heatmap(windows, latencies, μ, colormap=:Blues)\n",
    "    l = Colorbar(fig[1,2], h, label=\"F1-score\")\n",
    "    ax.xlabel = \"Window size [ms]\"\n",
    "    ax.ylabel  = \"Latency [ms]\"\n",
    "    fig\n",
    "end"
   ]
  },
  {
   "cell_type": "markdown",
   "metadata": {},
   "source": [
    "Since the input data was random, we see that most points are close to 0.5, i.e. chance level."
   ]
  }
 ],
 "metadata": {
  "kernelspec": {
   "display_name": "Julia 1.9.2",
   "language": "julia",
   "name": "julia-1.9"
  },
  "language_info": {
   "file_extension": ".jl",
   "mimetype": "application/julia",
   "name": "julia",
   "version": "1.9.2"
  }
 },
 "nbformat": 4,
 "nbformat_minor": 2
}
